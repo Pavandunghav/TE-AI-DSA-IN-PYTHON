{
 "cells": [
  {
   "cell_type": "code",
   "execution_count": 1,
   "metadata": {},
   "outputs": [],
   "source": [
    "from collections import defaultdict\n",
    "\n",
    "\n"
   ]
  },
  {
   "cell_type": "code",
   "execution_count": 4,
   "metadata": {},
   "outputs": [
    {
     "ename": "TypeError",
     "evalue": "'builtin_function_or_method' object is not subscriptable",
     "output_type": "error",
     "traceback": [
      "\u001b[1;31m---------------------------------------------------------------------------\u001b[0m",
      "\u001b[1;31mTypeError\u001b[0m                                 Traceback (most recent call last)",
      "Cell \u001b[1;32mIn[4], line 32\u001b[0m\n\u001b[0;32m     14\u001b[0m         visited\u001b[39m=\u001b[39m[\u001b[39m0\u001b[39m]\u001b[39m*\u001b[39m\u001b[39mmax\u001b[39m((graph\u001b[39m+\u001b[39m\u001b[39m1\u001b[39m))\n\u001b[0;32m     30\u001b[0m g\u001b[39m=\u001b[39mgraph()\n\u001b[1;32m---> 32\u001b[0m g\u001b[39m.\u001b[39;49maddvertex(\u001b[39m12\u001b[39;49m,\u001b[39m45\u001b[39;49m)\n",
      "Cell \u001b[1;32mIn[4], line 9\u001b[0m, in \u001b[0;36mgraph.addvertex\u001b[1;34m(self, u, v)\u001b[0m\n\u001b[0;32m      8\u001b[0m \u001b[39mdef\u001b[39;00m \u001b[39maddvertex\u001b[39m(\u001b[39mself\u001b[39m,u,v):\n\u001b[1;32m----> 9\u001b[0m     \u001b[39mself\u001b[39;49m\u001b[39m.\u001b[39;49mgraph[u]\u001b[39m.\u001b[39;49mappend[v]\n",
      "\u001b[1;31mTypeError\u001b[0m: 'builtin_function_or_method' object is not subscriptable"
     ]
    }
   ],
   "source": [
    "class graph:\n",
    "    \n",
    "    \n",
    "    def __init__(self):\n",
    "        self.graph=defaultdict(list)\n",
    "        \n",
    "        \n",
    "    def addvertex(self,u,v):\n",
    "        self.graph[u].append[v]\n",
    "        \n",
    "        \n",
    "    def BFS(value):\n",
    "        \n",
    "        visited=[0]*max((graph+1))\n",
    "        \n",
    "\n",
    "\n",
    "g=graph()\n",
    "\n",
    "g.addvertex(12,45)\n",
    "\n",
    "\n",
    "\n"
   ]
  }
 ],
 "metadata": {
  "kernelspec": {
   "display_name": "Python 3",
   "language": "python",
   "name": "python3"
  },
  "language_info": {
   "codemirror_mode": {
    "name": "ipython",
    "version": 3
   },
   "file_extension": ".py",
   "mimetype": "text/x-python",
   "name": "python",
   "nbconvert_exporter": "python",
   "pygments_lexer": "ipython3",
   "version": "3.10.1"
  },
  "orig_nbformat": 4
 },
 "nbformat": 4,
 "nbformat_minor": 2
}
